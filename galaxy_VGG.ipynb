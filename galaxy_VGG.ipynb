{
 "cells": [
  {
   "cell_type": "code",
   "execution_count": null,
   "metadata": {
    "id": "yZ_qgoHq-CtO"
   },
   "outputs": [],
   "source": [
    "import os\n",
    "import glob\n",
    "import sklearn\n",
    "from sklearn.model_selection import train_test_split\n",
    "\n",
    "import PIL\n",
    "import numpy as np\n",
    "import matplotlib.pyplot as plt\n",
    "\n",
    "import torch\n",
    "import torch.nn as nn\n",
    "from torchinfo import summary\n",
    "\n",
    "import torch.optim as optim\n",
    "from IPython.display import Image\n",
    "from torch.utils.data import DataLoader, Dataset\n",
    "from galaxy_mnist import GalaxyMNIST\n",
    "\n",
    "from torchvision.datasets import ImageFolder\n",
    "\n",
    "from torchvision.transforms import transforms\n",
    "from torch.utils.data import TensorDataset\n",
    "\n",
    "import cv2\n",
    "import torchvision.models as models"
   ]
  },
  {
   "cell_type": "code",
   "execution_count": null,
   "metadata": {},
   "outputs": [],
   "source": [
    "# Use GPU\n",
    "device = torch.device(\"cuda\" if torch.cuda.is_available() else \"cpu\")\n",
    "device"
   ]
  },
  {
   "cell_type": "code",
   "execution_count": null,
   "metadata": {},
   "outputs": [],
   "source": [
    "#  Import galaxyMNIST dataset\n",
    "dataset = GalaxyMNIST(\n",
    "    root='ML_DP/gal_mnist',\n",
    "    download=True,\n",
    "    train=False  # by default, or False for canonical test set\n",
    ")\n",
    "\n",
    "images = dataset.data\n",
    "labels = dataset.targets\n",
    "\n",
    "# Split in test, validation, train\n",
    "images_tv, images_test, y_tv, y_test  = train_test_split(images, labels, shuffle=True, test_size=0.2, random_state=123)\n",
    "images_train, images_val, y_train, y_val  = train_test_split(images_tv, y_tv, shuffle=True, test_size=0.25, random_state=123)\n",
    "\n",
    "# Create PyTorch dataset\n",
    "train_dataset = TensorDataset(images_train, y_train)\n",
    "val_dataset = TensorDataset(images_val, y_val)\n",
    "test_dataset = TensorDataset(images_test, y_test)"
   ]
  },
  {
   "cell_type": "code",
   "execution_count": null,
   "metadata": {
    "colab": {
     "referenced_widgets": [
      "436da374f22a4bd9b2ed2b4119523abf"
     ]
    },
    "id": "0CcQCMWT-Ctm",
    "outputId": "4b966819-c9b2-4e39-9249-5ff53837d74b"
   },
   "outputs": [],
   "source": [
    "VGG_model = models.vgg16(pretrained=True)\n",
    "\n",
    "for name, param in VGG_model.named_parameters():\n",
    "    param.requires_grad = False\n",
    "\n",
    "# define out classifier\n",
    "binary_classifier = nn.Sequential(\n",
    "   nn.Linear(in_features=25088, out_features=2048),\n",
    "   nn.ReLU(),\n",
    "   nn.Linear(in_features=2048, out_features=1024),\n",
    "   nn.ReLU(),\n",
    "   nn.Linear(in_features=1024, out_features=512),\n",
    "   nn.ReLU(),\n",
    "   nn.Linear(in_features=512, out_features=4)\n",
    ")\n",
    "\n",
    "# replace model class classifier attribute:\n",
    "VGG_model.classifier = binary_classifier"
   ]
  },
  {
   "cell_type": "code",
   "execution_count": 40,
   "metadata": {
    "id": "uJcUptya-Ctc"
   },
   "outputs": [],
   "source": [
    "# define training function\n",
    "\n",
    "def train_model(model, train_dataset, val_dataset, test_dataset, device,\n",
    "                lr=0.0001, epochs=30, batch_size=32, l2=0.00001, gamma=0.5,\n",
    "                patience=7):\n",
    "    model = model.to(device)\n",
    "\n",
    "    # construct dataloader\n",
    "    train_loader = DataLoader(train_dataset, batch_size=batch_size, shuffle=True)\n",
    "    val_loader = DataLoader(val_dataset, batch_size=batch_size, shuffle=False)\n",
    "    test_loader = DataLoader(test_dataset, batch_size=1, shuffle=False)\n",
    "\n",
    "    # history\n",
    "    history = {'train_loss': [], 'train_acc': [], 'val_loss': [], 'val_acc': []}\n",
    "\n",
    "    # set up loss function and optimizer\n",
    "    criterion = nn.CrossEntropyLoss()\n",
    "    optimizer = torch.optim.Adam(model.parameters(), lr=lr, weight_decay=l2)  # pass in the parameters to be updated and learning rate\n",
    "    scheduler = optim.lr_scheduler.StepLR(optimizer, step_size=patience, gamma=gamma)\n",
    "\n",
    "    # Training Loop\n",
    "    print(\"Training Start:\")\n",
    "    for epoch in range(epochs):\n",
    "        model.train()  # start to train the model, activate training behavior\n",
    "\n",
    "        train_loss = 0\n",
    "        train_acc = 0\n",
    "        val_loss = 0\n",
    "        val_acc = 0\n",
    "\n",
    "        for i, (images, labels) in enumerate(train_loader):\n",
    "            # reshape images\n",
    "            images = images.to(device)\n",
    "            images = images.float()# reshape: from (128, 1, 28, 28) -> (128, 28 * 28) = (128, 284), move batch to device\n",
    "            labels = labels.to(device)  # move to device\n",
    "            # forward\n",
    "            outputs = model(images)  # forward\n",
    "            \n",
    "            _, pred = torch.max(outputs.data, 1)\n",
    "            \n",
    "            cur_train_loss = criterion(outputs, labels)  # loss\n",
    "            cur_train_acc = (pred == labels).sum().item() / batch_size\n",
    "\n",
    "            # backward\n",
    "            cur_train_loss.backward()   # run back propagation\n",
    "            optimizer.step()            # optimizer update all model parameters\n",
    "            optimizer.zero_grad()       # set gradient to zero, avoid gradient accumulating\n",
    "\n",
    "            # loss\n",
    "            train_loss += cur_train_loss\n",
    "            train_acc += cur_train_acc\n",
    "\n",
    "        # valid\n",
    "        model.eval()  # start to train the model, activate training behavior\n",
    "        with torch.no_grad():  # tell pytorch not to update parameters\n",
    "            for images, labels in val_loader:\n",
    "                # calculate validation loss\n",
    "                images = images.to(device)\n",
    "                labels = labels.to(device)\n",
    "                images = images.float()\n",
    "                \n",
    "                outputs = model(images)\n",
    "\n",
    "                # loss\n",
    "                cur_valid_loss = criterion(outputs, labels)\n",
    "                val_loss += cur_valid_loss\n",
    "                # acc\n",
    "                _, pred = torch.max(outputs.data, 1)\n",
    "                val_acc += (pred == labels).sum().item() / batch_size\n",
    "\n",
    "        # learning schedule step\n",
    "        scheduler.step()\n",
    "\n",
    "        # print training feedback\n",
    "        train_loss = train_loss / len(train_loader)\n",
    "        train_acc = train_acc / len(train_loader)\n",
    "        val_loss = val_loss / len(val_loader)\n",
    "        val_acc = val_acc / len(val_loader)\n",
    "\n",
    "        print(f\"Epoch:{epoch + 1} / {epochs}, lr: {optimizer.param_groups[0]['lr']:.5f} train loss:{train_loss:.5f}, train acc: {train_acc:.5f}, valid loss:{val_loss:.5f}, valid acc:{val_acc:.5f}\")\n",
    "\n",
    "        # update history\n",
    "        history['train_loss'].append(train_loss)\n",
    "        history['train_acc'].append(train_acc)\n",
    "        history['val_loss'].append(val_loss)\n",
    "        history['val_acc'].append(val_acc)\n",
    "\n",
    "    test_acc = 0\n",
    "\n",
    "    with torch.no_grad():\n",
    "        for images, labels in test_loader:\n",
    "            images, labels = images.to(device), labels.to(device)\n",
    "            images = images.float()\n",
    "            # calculate outputs by running images through the network\n",
    "            outputs = model(images)\n",
    "            # the class with the highest energy is what we choose as prediction\n",
    "            _, pred = torch.max(outputs.data, 1)\n",
    "            test_acc += (pred == labels).sum().item()\n",
    "\n",
    "    print(f'Test Accuracy:  {(test_acc / len(test_loader))}')\n",
    "\n",
    "    return history"
   ]
  },
  {
   "cell_type": "code",
   "execution_count": null,
   "metadata": {
    "id": "1BsMfn4S-Ctn",
    "outputId": "78591bfe-d12b-4d62-d7d3-5b924908835f",
    "scrolled": true
   },
   "outputs": [
    {
     "name": "stdout",
     "output_type": "stream",
     "text": [
      "Training Start:\n",
      "Epoch:1 / 20, lr: 0.00010 train loss:1.29270, train acc: 0.46382, valid loss:1.04060, valid acc:0.53365\n",
      "Epoch:2 / 20, lr: 0.00010 train loss:0.84632, train acc: 0.61678, valid loss:0.91110, valid acc:0.55048\n",
      "Epoch:3 / 20, lr: 0.00010 train loss:0.79488, train acc: 0.63158, valid loss:0.82139, valid acc:0.62740\n",
      "Epoch:4 / 20, lr: 0.00010 train loss:0.75555, train acc: 0.65378, valid loss:0.76019, valid acc:0.66587\n",
      "Epoch:5 / 20, lr: 0.00010 train loss:0.75766, train acc: 0.64803, valid loss:0.81753, valid acc:0.62260\n"
     ]
    }
   ],
   "source": [
    "# Train the CNN model\n",
    "hist = train_model(VGG_model, train_dataset, val_dataset, test_dataset, device, lr=0.0001, batch_size=32, epochs=20, l2=0.2\n",
    "                   , patience=15)"
   ]
  },
  {
   "cell_type": "code",
   "execution_count": null,
   "metadata": {
    "id": "gy9D6zHY-Cto",
    "outputId": "44788efb-c5f4-47f2-edf3-7c46bdf60d0e"
   },
   "outputs": [],
   "source": [
    "# plot training curves\n",
    "epochs = range(1, len(hist['train_loss']) + 1)\n",
    "\n",
    "fig, ax = plt.subplots(1,2, figsize=(20,6))\n",
    "ax[0].plot(epochs, hist['train_loss'], 'r-', label='Train')\n",
    "ax[0].plot(epochs, hist['val_loss'], 'b-', label='Evaluation')\n",
    "ax[0].set_title('Loss')\n",
    "ax[0].set_xlabel('Epochs')\n",
    "ax[0].set_ylabel('Loss')\n",
    "ax[0].legend()\n",
    "\n",
    "\n",
    "ax[1].plot(epochs, hist['train_acc'], 'r-', label='Train')\n",
    "ax[1].plot(epochs, hist['val_acc'], 'b-', label='Evaluation')\n",
    "ax[1].set_title('Accuracy')\n",
    "ax[1].set_xlabel('Epochs')\n",
    "ax[1].set_ylabel('Acc')\n",
    "ax[1].legend()\n",
    "\n",
    "plt.show()"
   ]
  }
 ],
 "metadata": {
  "colab": {
   "provenance": []
  },
  "kernelspec": {
   "display_name": "Python 3 (ipykernel)",
   "language": "python",
   "name": "python3"
  },
  "language_info": {
   "codemirror_mode": {
    "name": "ipython",
    "version": 3
   },
   "file_extension": ".py",
   "mimetype": "text/x-python",
   "name": "python",
   "nbconvert_exporter": "python",
   "pygments_lexer": "ipython3",
   "version": "3.10.12"
  }
 },
 "nbformat": 4,
 "nbformat_minor": 4
}
