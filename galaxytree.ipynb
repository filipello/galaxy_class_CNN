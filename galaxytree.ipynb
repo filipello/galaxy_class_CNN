{
  "metadata": {
    "kernelspec": {
      "name": "python",
      "display_name": "Python (Pyodide)",
      "language": "python"
    },
    "language_info": {
      "codemirror_mode": {
        "name": "python",
        "version": 3
      },
      "file_extension": ".py",
      "mimetype": "text/x-python",
      "name": "python",
      "nbconvert_exporter": "python",
      "pygments_lexer": "ipython3",
      "version": "3.8"
    },
    "kaggle": {
      "accelerator": "gpu",
      "dataSources": [],
      "dockerImageVersionId": 30646,
      "isInternetEnabled": true,
      "language": "python",
      "sourceType": "notebook",
      "isGpuEnabled": true
    }
  },
  "nbformat_minor": 4,
  "nbformat": 4,
  "cells": [
    {
      "cell_type": "code",
      "source": "import numpy as np\nimport pandas as pd\nimport torch\nimport matplotlib.pyplot as plt \nimport os\n!pip install Pillow\nimport seaborn as sn\n\nfrom sklearn.model_selection import cross_val_score\nfrom sklearn.metrics import confusion_matrix\nfrom sklearn.metrics import accuracy_score\nfrom sklearn import ensemble\nfrom sklearn import tree\nimport xgboost as xgb\n\n%pip install git+https://github.com/mwalmsley/galaxy_mnist.git\nfrom galaxy_mnist import GalaxyMNIST",
      "metadata": {
        "execution": {
          "iopub.status.busy": "2024-03-14T13:25:51.304680Z",
          "iopub.execute_input": "2024-03-14T13:25:51.305205Z",
          "iopub.status.idle": "2024-03-14T13:26:03.776742Z",
          "shell.execute_reply.started": "2024-03-14T13:25:51.305174Z",
          "shell.execute_reply": "2024-03-14T13:26:03.775723Z"
        },
        "trusted": true
      },
      "outputs": [
        {
          "name": "stdout",
          "text": "Requirement already satisfied: Pillow in /opt/conda/lib/python3.10/site-packages (9.5.0)\n",
          "output_type": "stream"
        }
      ],
      "execution_count": 2
    },
    {
      "cell_type": "code",
      "source": "device = torch.device(\"cuda\" if torch.cuda.is_available() else \"cpu\")",
      "metadata": {
        "execution": {
          "iopub.status.busy": "2024-03-14T13:26:03.778165Z",
          "iopub.execute_input": "2024-03-14T13:26:03.778498Z",
          "iopub.status.idle": "2024-03-14T13:26:03.806139Z",
          "shell.execute_reply.started": "2024-03-14T13:26:03.778468Z",
          "shell.execute_reply": "2024-03-14T13:26:03.805188Z"
        },
        "trusted": true
      },
      "outputs": [
        {
          "execution_count": 3,
          "output_type": "execute_result",
          "data": {
            "text/plain": "device(type='cuda')"
          },
          "metadata": {}
        }
      ],
      "execution_count": 3
    },
    {
      "cell_type": "code",
      "source": "#  Import galaxyMNIST dataset\ntrain_dataset = GalaxyMNIST(\n    root='ML_DP/gal_mnist',\n    download=True\n)\n\ntest_dataset = GalaxyMNIST(\n    root='ML_DP/gal_mnist',\n    download=True,\n    train=False\n)",
      "metadata": {
        "execution": {
          "iopub.status.busy": "2024-03-14T13:26:20.545047Z",
          "iopub.execute_input": "2024-03-14T13:26:20.545543Z",
          "iopub.status.idle": "2024-03-14T13:26:20.939301Z",
          "shell.execute_reply.started": "2024-03-14T13:26:20.545514Z",
          "shell.execute_reply": "2024-03-14T13:26:20.938099Z"
        },
        "trusted": true
      },
      "outputs": [
        {
          "traceback": [
            "\u001b[0;31m---------------------------------------------------------------------------\u001b[0m",
            "\u001b[0;31mNameError\u001b[0m                                 Traceback (most recent call last)",
            "Cell \u001b[0;32mIn[5], line 2\u001b[0m\n\u001b[1;32m      1\u001b[0m \u001b[38;5;66;03m#  Import galaxyMNIST dataset\u001b[39;00m\n\u001b[0;32m----> 2\u001b[0m train_dataset \u001b[38;5;241m=\u001b[39m \u001b[43mGalaxyMNIST\u001b[49m(\n\u001b[1;32m      3\u001b[0m     root\u001b[38;5;241m=\u001b[39m\u001b[38;5;124m'\u001b[39m\u001b[38;5;124mML_DP/gal_mnist\u001b[39m\u001b[38;5;124m'\u001b[39m,\n\u001b[1;32m      4\u001b[0m     download\u001b[38;5;241m=\u001b[39m\u001b[38;5;28;01mTrue\u001b[39;00m\n\u001b[1;32m      5\u001b[0m )\n\u001b[1;32m      7\u001b[0m test_dataset \u001b[38;5;241m=\u001b[39m GalaxyMNIST(\n\u001b[1;32m      8\u001b[0m     root\u001b[38;5;241m=\u001b[39m\u001b[38;5;124m'\u001b[39m\u001b[38;5;124mML_DP/gal_mnist\u001b[39m\u001b[38;5;124m'\u001b[39m,\n\u001b[1;32m      9\u001b[0m     download\u001b[38;5;241m=\u001b[39m\u001b[38;5;28;01mTrue\u001b[39;00m,\n\u001b[1;32m     10\u001b[0m     train\u001b[38;5;241m=\u001b[39m\u001b[38;5;28;01mFalse\u001b[39;00m\n\u001b[1;32m     11\u001b[0m )\n",
            "\u001b[0;31mNameError\u001b[0m: name 'GalaxyMNIST' is not defined"
          ],
          "ename": "NameError",
          "evalue": "name 'GalaxyMNIST' is not defined",
          "output_type": "error"
        }
      ],
      "execution_count": 5
    },
    {
      "cell_type": "code",
      "source": "images_train=train_dataset.data\ny_train = train_dataset.targets\nimages_val=test_dataset.data\ny_val = test_dataset.targets\n\nprint(images_train[0].shape)\nnsamples , n , nx, ny = images_train.shape\nd2_images_train = images_train.reshape((nsamples,n*nx*ny))\nnsamples , n , nx, ny = images_val.shape\nd2_images_val = images_val.reshape((nsamples,n*nx*ny))",
      "metadata": {
        "execution": {
          "iopub.status.busy": "2024-03-14T13:26:20.940184Z",
          "iopub.status.idle": "2024-03-14T13:26:20.940510Z",
          "shell.execute_reply.started": "2024-03-14T13:26:20.940349Z",
          "shell.execute_reply": "2024-03-14T13:26:20.940362Z"
        },
        "trusted": true
      },
      "outputs": [],
      "execution_count": null
    },
    {
      "cell_type": "markdown",
      "source": "# ***Gini***",
      "metadata": {}
    },
    {
      "cell_type": "code",
      "source": "\nclassifier_gini_nomax = tree.DecisionTreeClassifier(criterion='gini', random_state=0)\nclassifier_gini_nomax.fit(d2_images_train, y_train)\n\n\nn_nodes = classifier_gini_nomax.tree_.node_count\nprint(n_nodes)\nprint(classifier_gini_nomax.tree_.max_depth)",
      "metadata": {
        "trusted": true
      },
      "outputs": [],
      "execution_count": null
    },
    {
      "cell_type": "code",
      "source": "# vogliamo capire qual è il max depth ideale. facciamo un 5-fold cross-validation\nvalues = np.arange(3,27,3) # il 27 viene dal passo prima. \ncv_scs = {}\nfor i in values:\n    clf = tree.DecisionTreeClassifier(max_depth=i,random_state=0)\n    cv_scs[i]= cross_val_score(clf, d2_images_train, y_train, cv=5, n_jobs=-1)",
      "metadata": {
        "trusted": true
      },
      "outputs": [],
      "execution_count": null
    },
    {
      "cell_type": "code",
      "source": "error_score=[]\nfor i in cv_scs.values():\n    error_score.append(1-i)\nplt.plot(cv_scs.keys(),error_score)\nplt.show()",
      "metadata": {
        "trusted": true
      },
      "outputs": [],
      "execution_count": null
    },
    {
      "cell_type": "code",
      "source": "values_new = [6,7,8,9,10,11] # proviamo a vedere se tra 6 e 11 ci sono valori migliori\n#from sklearn.model_selection import cross_val_score\ncv_scs_new = {}\nfor i in values_new:\n    clf = tree.DecisionTreeClassifier(max_depth=i,random_state=0)\n    cv_scs_new[i]= cross_val_score(clf, d2_images_train, y_train, cv=5, n_jobs=-1)",
      "metadata": {
        "trusted": true
      },
      "outputs": [],
      "execution_count": null
    },
    {
      "cell_type": "code",
      "source": "error_score_new=[]\nfor i in cv_scs_new.values():\n    error_score_new.append(1-i)\nplt.plot(cv_scs_new.keys(),error_score_new)\nplt.show()",
      "metadata": {
        "trusted": true
      },
      "outputs": [],
      "execution_count": null
    },
    {
      "cell_type": "code",
      "source": "classifier_gini = tree.DecisionTreeClassifier(criterion='gini', max_depth=9, random_state=0) # la max_depth viene dal passo precedente, ed è 9\nclassifier_gini.fit(d2_images_train, y_train) # fittiamo con le immagini del train\n\n#vediamo il numero di nodi e la max depth attuale dell'albero\nn_nodes = classifier_gini.tree_.node_count\nprint(n_nodes)\nprint(classifier_gini.tree_.max_depth)\n",
      "metadata": {
        "trusted": true
      },
      "outputs": [],
      "execution_count": null
    },
    {
      "cell_type": "code",
      "source": "y_pred_gini = classifier_gini.predict(d2_images_val) # ora usiamo l albero per predire le labels delle immagini in test \n\nprint('Model accuracy score with criterion gini index: {0:0.4f}'. format(accuracy_score(y_val, y_pred_gini)))",
      "metadata": {
        "trusted": true
      },
      "outputs": [],
      "execution_count": null
    },
    {
      "cell_type": "code",
      "source": "# facciamo il check per eventuale overfit\n\ny_pred_train_gini = classifier_gini.predict(d2_images_train)\nprint('Training-set accuracy score: {0:0.4f}'. format(accuracy_score(y_train, y_pred_train_gini)))",
      "metadata": {
        "trusted": true
      },
      "outputs": [],
      "execution_count": null
    },
    {
      "cell_type": "code",
      "source": "plt.figure(figsize=(15,15))\n\n\n\ntree.plot_tree(classifier_gini.fit(d2_images_train, y_train))",
      "metadata": {
        "trusted": true
      },
      "outputs": [],
      "execution_count": null
    },
    {
      "cell_type": "code",
      "source": "cf_matrix = confusion_matrix(y_val, y_pred_gini)\nclasses = GalaxyMNIST.classes\ndf_cm = pd.DataFrame(cf_matrix \n                     , index = [i for i in classes], columns = [i for i in classes])\nplt.figure(figsize = (10,6))\nsn.heatmap(df_cm, annot=True, fmt='.0f')",
      "metadata": {
        "trusted": true
      },
      "outputs": [],
      "execution_count": null
    },
    {
      "cell_type": "markdown",
      "source": "# ***Entropy***",
      "metadata": {}
    },
    {
      "cell_type": "code",
      "source": "#ATTENZIONE\n# instantiate the DecisionTreeClassifier model with criterion entropy\n\nclassifier_entropy_nomax = tree.DecisionTreeClassifier(criterion='entropy', random_state=0) #max_depth=3\n# fit the model\nclassifier_entropy_nomax.fit(d2_images_train, y_train)\n",
      "metadata": {
        "trusted": true
      },
      "outputs": [],
      "execution_count": null
    },
    {
      "cell_type": "code",
      "source": "#vediamo il numero di nodi e la max depth attuale dell'albero\nn_nodes = classifier_entropy_nomax.tree_.node_count\nprint(n_nodes)\nprint(classifier_entropy_nomax.tree_.max_depth)",
      "metadata": {
        "trusted": true
      },
      "outputs": [],
      "execution_count": null
    },
    {
      "cell_type": "code",
      "source": "# vogliamo capire qual è il max depth ideal. facciamo un 5-fold cross-validation\nvalues = np.arange(2,20,3) # il 20 viene dal passo prima. \n\ncv_scs = {}\nfor i in values:\n    clf = tree.DecisionTreeClassifier(criterion='entropy', max_depth=i,random_state=0)\n    cv_scs[i]= cross_val_score(clf, d2_images_train, y_train, cv=5, n_jobs=-1)",
      "metadata": {
        "trusted": true
      },
      "outputs": [],
      "execution_count": null
    },
    {
      "cell_type": "code",
      "source": "error_score=[]\nfor i in cv_scs.values():\n    error_score.append(1-i)\nplt.plot(cv_scs.keys(),error_score)\nplt.show()",
      "metadata": {
        "trusted": true
      },
      "outputs": [],
      "execution_count": null
    },
    {
      "cell_type": "code",
      "source": "# vediamo se ci sono valori migliori attorno a 8\nvalues_new = [6,7,8,9,10]\nfrom sklearn.model_selection import cross_val_score\ncv_scs_new = {}\nfor i in values_new:\n    clf = tree.DecisionTreeClassifier(criterion='entropy', max_depth=i,random_state=0)\n    cv_scs_new[i]= cross_val_score(clf, d2_images_train, y_train, cv=5, n_jobs=-1)",
      "metadata": {
        "trusted": true
      },
      "outputs": [],
      "execution_count": null
    },
    {
      "cell_type": "code",
      "source": "error_score_new=[]\nfor i in cv_scs_new.values():\n    error_score_new.append(1-i)\nplt.plot(cv_scs_new.keys(),error_score_new)\nplt.show()",
      "metadata": {
        "trusted": true
      },
      "outputs": [],
      "execution_count": null
    },
    {
      "cell_type": "code",
      "source": "classifier_entropy = tree.DecisionTreeClassifier(criterion='entropy', max_depth=8, random_state=0) #max_depth vista dal passo precedente\n# fit the model\nclassifier_entropy.fit(d2_images_train, y_train)",
      "metadata": {
        "trusted": true
      },
      "outputs": [],
      "execution_count": null
    },
    {
      "cell_type": "code",
      "source": "#vediamo il numero di nodi e la max depth attuale dell'albero\nn_nodes = classifier_entropy.tree_.node_count\nprint(n_nodes)\nprint(classifier_entropy.tree_.max_depth)",
      "metadata": {
        "trusted": true
      },
      "outputs": [],
      "execution_count": null
    },
    {
      "cell_type": "code",
      "source": "y_pred_entropy = classifier_entropy.predict(d2_images_val)\n\nprint('Model accuracy score with criterion entropy index: {0:0.4f}'. format(accuracy_score(y_val, y_pred_entropy)))\n\ny_pred_train_entropy = classifier_entropy.predict(d2_images_train)\n\nprint('Training-set accuracy score: {0:0.4f}'. format(accuracy_score(y_train, y_pred_train_entropy)))",
      "metadata": {
        "trusted": true
      },
      "outputs": [],
      "execution_count": null
    },
    {
      "cell_type": "code",
      "source": "cf_matrix = confusion_matrix(y_val, y_pred_entropy)\nclasses = GalaxyMNIST.classes\ndf_cm = pd.DataFrame(cf_matrix \n                     , index = [i for i in classes], columns = [i for i in classes])\nplt.figure(figsize = (10,6))\nsn.heatmap(df_cm, annot=True, fmt= '.0f')",
      "metadata": {
        "trusted": true
      },
      "outputs": [],
      "execution_count": null
    },
    {
      "cell_type": "markdown",
      "source": "# ***Bagging***",
      "metadata": {}
    },
    {
      "cell_type": "code",
      "source": "bagging_model = ensemble.BaggingClassifier(tree.DecisionTreeClassifier(max_depth = 9), n_estimators = 15, max_samples = 0.50, max_features = 0.50, random_state=42) # bootstrap, di default è true\nbagging_model.fit(d2_images_train, y_train)",
      "metadata": {
        "trusted": true
      },
      "outputs": [],
      "execution_count": null
    },
    {
      "cell_type": "code",
      "source": "y_train_predBag = bagging_model.predict(d2_images_train)\n\nprint(confusion_matrix(y_train, y_train_predBag))\nprint(accuracy_score(y_train, y_train_predBag))",
      "metadata": {
        "trusted": true
      },
      "outputs": [],
      "execution_count": null
    },
    {
      "cell_type": "code",
      "source": "y_val_predBag = bagging_model.predict(d2_images_val)\n\nprint(confusion_matrix(y_val, y_val_predBag))\nprint(accuracy_score(y_val, y_val_predBag))",
      "metadata": {
        "trusted": true
      },
      "outputs": [],
      "execution_count": null
    },
    {
      "cell_type": "code",
      "source": "cf_matrix = confusion_matrix(y_val, y_val_predBag)\nclasses = GalaxyMNIST.classes\ndf_cm = pd.DataFrame(cf_matrix \n                     , index = [i for i in classes], columns = [i for i in classes])\nplt.figure(figsize = (10,6))\nsn.heatmap(df_cm, annot=True, fmt= '.0f')",
      "metadata": {
        "trusted": true
      },
      "outputs": [],
      "execution_count": null
    },
    {
      "cell_type": "markdown",
      "source": "# ***XGBoosting***",
      "metadata": {}
    },
    {
      "cell_type": "code",
      "source": "gino = 3 \n\nxgb_model = xgb.XGBClassifier(objective='multi:softmax', tree_method='hist',  device='cuda', max_depth=3, random_state=42)\nxgb_model.fit(d2_images_train, y_train)",
      "metadata": {
        "trusted": true
      },
      "outputs": [],
      "execution_count": null
    },
    {
      "cell_type": "code",
      "source": "y_train_pred = xgb_model.predict(d2_images_train)\n\nprint(confusion_matrix(y_train, y_train_pred))\nprint(accuracy_score(y_train, y_train_pred))",
      "metadata": {
        "trusted": true
      },
      "outputs": [],
      "execution_count": null
    },
    {
      "cell_type": "code",
      "source": "y_val_pred = xgb_model.predict(d2_images_val)\n\nprint(confusion_matrix(y_val, y_val_pred))\nprint(accuracy_score(y_val, y_val_pred))",
      "metadata": {
        "trusted": true
      },
      "outputs": [],
      "execution_count": null
    },
    {
      "cell_type": "code",
      "source": "cf_matrix = confusion_matrix(y_val, y_val_pred)\nclasses = GalaxyMNIST.classes\ndf_cm = pd.DataFrame(cf_matrix \n                     , index = [i for i in classes], columns = [i for i in classes])\nplt.figure(figsize = (10,6))\nsn.heatmap(df_cm, annot=True, fmt= '.0f')",
      "metadata": {
        "trusted": true
      },
      "outputs": [],
      "execution_count": null
    }
  ]
}